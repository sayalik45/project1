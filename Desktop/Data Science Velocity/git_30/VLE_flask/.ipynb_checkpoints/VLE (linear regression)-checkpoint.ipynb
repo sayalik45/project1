{
 "cells": [
  {
   "cell_type": "code",
   "execution_count": 1,
   "id": "95ee5131",
   "metadata": {},
   "outputs": [],
   "source": [
    "import pandas as pd\n",
    "import numpy as np\n",
    "import seaborn as sns\n",
    "import matplotlib.pyplot as plt\n",
    "\n",
    "from sklearn.model_selection import train_test_split\n",
    "from sklearn.linear_model import LinearRegression\n",
    "from sklearn.metrics import r2_score,mean_squared_error,mean_absolute_error\n",
    "\n",
    "from statsmodels.stats.outliers_influence import variance_inflation_factor\n"
   ]
  },
  {
   "cell_type": "code",
   "execution_count": 2,
   "id": "04270cb9",
   "metadata": {},
   "outputs": [
    {
     "data": {
      "text/html": [
       "<div>\n",
       "<style scoped>\n",
       "    .dataframe tbody tr th:only-of-type {\n",
       "        vertical-align: middle;\n",
       "    }\n",
       "\n",
       "    .dataframe tbody tr th {\n",
       "        vertical-align: top;\n",
       "    }\n",
       "\n",
       "    .dataframe thead th {\n",
       "        text-align: right;\n",
       "    }\n",
       "</style>\n",
       "<table border=\"1\" class=\"dataframe\">\n",
       "  <thead>\n",
       "    <tr style=\"text-align: right;\">\n",
       "      <th></th>\n",
       "      <th>Temperature</th>\n",
       "      <th>liq_phase_comp_benzene</th>\n",
       "      <th>liq_phase_comp_cyclohexane</th>\n",
       "      <th>vapor_phase_comp_benzene</th>\n",
       "      <th>vapor_phase_comp_cyclohexane</th>\n",
       "      <th>Accentric_factor_benzene</th>\n",
       "      <th>Accentric_factor_cyclohexane</th>\n",
       "    </tr>\n",
       "  </thead>\n",
       "  <tbody>\n",
       "    <tr>\n",
       "      <th>0</th>\n",
       "      <td>351.03</td>\n",
       "      <td>0.497</td>\n",
       "      <td>0.482</td>\n",
       "      <td>0.511</td>\n",
       "      <td>0.489</td>\n",
       "      <td>1.087</td>\n",
       "      <td>1.098</td>\n",
       "    </tr>\n",
       "    <tr>\n",
       "      <th>1</th>\n",
       "      <td>351.07</td>\n",
       "      <td>0.545</td>\n",
       "      <td>0.429</td>\n",
       "      <td>0.558</td>\n",
       "      <td>0.441</td>\n",
       "      <td>1.081</td>\n",
       "      <td>1.112</td>\n",
       "    </tr>\n",
       "    <tr>\n",
       "      <th>2</th>\n",
       "      <td>351.09</td>\n",
       "      <td>0.508</td>\n",
       "      <td>0.465</td>\n",
       "      <td>0.516</td>\n",
       "      <td>0.483</td>\n",
       "      <td>1.070</td>\n",
       "      <td>1.123</td>\n",
       "    </tr>\n",
       "    <tr>\n",
       "      <th>3</th>\n",
       "      <td>351.09</td>\n",
       "      <td>0.583</td>\n",
       "      <td>0.395</td>\n",
       "      <td>0.586</td>\n",
       "      <td>0.413</td>\n",
       "      <td>1.061</td>\n",
       "      <td>1.130</td>\n",
       "    </tr>\n",
       "    <tr>\n",
       "      <th>4</th>\n",
       "      <td>351.11</td>\n",
       "      <td>0.547</td>\n",
       "      <td>0.427</td>\n",
       "      <td>0.562</td>\n",
       "      <td>0.438</td>\n",
       "      <td>1.082</td>\n",
       "      <td>1.108</td>\n",
       "    </tr>\n",
       "  </tbody>\n",
       "</table>\n",
       "</div>"
      ],
      "text/plain": [
       "   Temperature  liq_phase_comp_benzene  liq_phase_comp_cyclohexane  \\\n",
       "0       351.03                   0.497                       0.482   \n",
       "1       351.07                   0.545                       0.429   \n",
       "2       351.09                   0.508                       0.465   \n",
       "3       351.09                   0.583                       0.395   \n",
       "4       351.11                   0.547                       0.427   \n",
       "\n",
       "   vapor_phase_comp_benzene  vapor_phase_comp_cyclohexane  \\\n",
       "0                     0.511                         0.489   \n",
       "1                     0.558                         0.441   \n",
       "2                     0.516                         0.483   \n",
       "3                     0.586                         0.413   \n",
       "4                     0.562                         0.438   \n",
       "\n",
       "   Accentric_factor_benzene  Accentric_factor_cyclohexane  \n",
       "0                     1.087                         1.098  \n",
       "1                     1.081                         1.112  \n",
       "2                     1.070                         1.123  \n",
       "3                     1.061                         1.130  \n",
       "4                     1.082                         1.108  "
      ]
     },
     "execution_count": 2,
     "metadata": {},
     "output_type": "execute_result"
    }
   ],
   "source": [
    "df = pd.read_csv('VLE .csv')\n",
    "df.head()"
   ]
  },
  {
   "cell_type": "code",
   "execution_count": 3,
   "id": "37845183",
   "metadata": {},
   "outputs": [
    {
     "name": "stdout",
     "output_type": "stream",
     "text": [
      "<class 'pandas.core.frame.DataFrame'>\n",
      "RangeIndex: 117 entries, 0 to 116\n",
      "Data columns (total 7 columns):\n",
      " #   Column                        Non-Null Count  Dtype  \n",
      "---  ------                        --------------  -----  \n",
      " 0   Temperature                   117 non-null    float64\n",
      " 1   liq_phase_comp_benzene        117 non-null    float64\n",
      " 2   liq_phase_comp_cyclohexane    117 non-null    float64\n",
      " 3   vapor_phase_comp_benzene      117 non-null    float64\n",
      " 4   vapor_phase_comp_cyclohexane  117 non-null    float64\n",
      " 5   Accentric_factor_benzene      117 non-null    float64\n",
      " 6   Accentric_factor_cyclohexane  117 non-null    float64\n",
      "dtypes: float64(7)\n",
      "memory usage: 6.5 KB\n"
     ]
    }
   ],
   "source": [
    "df.info()"
   ]
  },
  {
   "cell_type": "code",
   "execution_count": 4,
   "id": "5b76b7c0",
   "metadata": {},
   "outputs": [
    {
     "data": {
      "text/html": [
       "<div>\n",
       "<style scoped>\n",
       "    .dataframe tbody tr th:only-of-type {\n",
       "        vertical-align: middle;\n",
       "    }\n",
       "\n",
       "    .dataframe tbody tr th {\n",
       "        vertical-align: top;\n",
       "    }\n",
       "\n",
       "    .dataframe thead th {\n",
       "        text-align: right;\n",
       "    }\n",
       "</style>\n",
       "<table border=\"1\" class=\"dataframe\">\n",
       "  <thead>\n",
       "    <tr style=\"text-align: right;\">\n",
       "      <th></th>\n",
       "      <th>Temperature</th>\n",
       "      <th>liq_phase_comp_benzene</th>\n",
       "      <th>liq_phase_comp_cyclohexane</th>\n",
       "      <th>vapor_phase_comp_benzene</th>\n",
       "      <th>vapor_phase_comp_cyclohexane</th>\n",
       "      <th>Accentric_factor_benzene</th>\n",
       "      <th>Accentric_factor_cyclohexane</th>\n",
       "    </tr>\n",
       "  </thead>\n",
       "  <tbody>\n",
       "    <tr>\n",
       "      <th>count</th>\n",
       "      <td>117.000000</td>\n",
       "      <td>117.000000</td>\n",
       "      <td>117.000000</td>\n",
       "      <td>117.000000</td>\n",
       "      <td>117.000000</td>\n",
       "      <td>117.000000</td>\n",
       "      <td>117.000000</td>\n",
       "    </tr>\n",
       "    <tr>\n",
       "      <th>mean</th>\n",
       "      <td>356.812564</td>\n",
       "      <td>0.400966</td>\n",
       "      <td>0.408077</td>\n",
       "      <td>0.475513</td>\n",
       "      <td>0.490957</td>\n",
       "      <td>1.141632</td>\n",
       "      <td>1.251786</td>\n",
       "    </tr>\n",
       "    <tr>\n",
       "      <th>std</th>\n",
       "      <td>10.881987</td>\n",
       "      <td>0.241172</td>\n",
       "      <td>0.253171</td>\n",
       "      <td>0.248430</td>\n",
       "      <td>0.250397</td>\n",
       "      <td>0.183969</td>\n",
       "      <td>0.194859</td>\n",
       "    </tr>\n",
       "    <tr>\n",
       "      <th>min</th>\n",
       "      <td>351.030000</td>\n",
       "      <td>0.019000</td>\n",
       "      <td>0.008000</td>\n",
       "      <td>0.023000</td>\n",
       "      <td>0.010000</td>\n",
       "      <td>0.769000</td>\n",
       "      <td>1.003000</td>\n",
       "    </tr>\n",
       "    <tr>\n",
       "      <th>25%</th>\n",
       "      <td>352.130000</td>\n",
       "      <td>0.208000</td>\n",
       "      <td>0.184000</td>\n",
       "      <td>0.316000</td>\n",
       "      <td>0.331000</td>\n",
       "      <td>1.076000</td>\n",
       "      <td>1.096000</td>\n",
       "    </tr>\n",
       "    <tr>\n",
       "      <th>50%</th>\n",
       "      <td>353.960000</td>\n",
       "      <td>0.385000</td>\n",
       "      <td>0.398000</td>\n",
       "      <td>0.464000</td>\n",
       "      <td>0.519000</td>\n",
       "      <td>1.114000</td>\n",
       "      <td>1.185000</td>\n",
       "    </tr>\n",
       "    <tr>\n",
       "      <th>75%</th>\n",
       "      <td>356.130000</td>\n",
       "      <td>0.524000</td>\n",
       "      <td>0.575000</td>\n",
       "      <td>0.620000</td>\n",
       "      <td>0.654000</td>\n",
       "      <td>1.167000</td>\n",
       "      <td>1.376000</td>\n",
       "    </tr>\n",
       "    <tr>\n",
       "      <th>max</th>\n",
       "      <td>421.090000</td>\n",
       "      <td>0.980000</td>\n",
       "      <td>0.959000</td>\n",
       "      <td>0.990000</td>\n",
       "      <td>0.974000</td>\n",
       "      <td>2.422000</td>\n",
       "      <td>1.930000</td>\n",
       "    </tr>\n",
       "  </tbody>\n",
       "</table>\n",
       "</div>"
      ],
      "text/plain": [
       "       Temperature  liq_phase_comp_benzene  liq_phase_comp_cyclohexane  \\\n",
       "count   117.000000              117.000000                  117.000000   \n",
       "mean    356.812564                0.400966                    0.408077   \n",
       "std      10.881987                0.241172                    0.253171   \n",
       "min     351.030000                0.019000                    0.008000   \n",
       "25%     352.130000                0.208000                    0.184000   \n",
       "50%     353.960000                0.385000                    0.398000   \n",
       "75%     356.130000                0.524000                    0.575000   \n",
       "max     421.090000                0.980000                    0.959000   \n",
       "\n",
       "       vapor_phase_comp_benzene  vapor_phase_comp_cyclohexane  \\\n",
       "count                117.000000                    117.000000   \n",
       "mean                   0.475513                      0.490957   \n",
       "std                    0.248430                      0.250397   \n",
       "min                    0.023000                      0.010000   \n",
       "25%                    0.316000                      0.331000   \n",
       "50%                    0.464000                      0.519000   \n",
       "75%                    0.620000                      0.654000   \n",
       "max                    0.990000                      0.974000   \n",
       "\n",
       "       Accentric_factor_benzene  Accentric_factor_cyclohexane  \n",
       "count                117.000000                    117.000000  \n",
       "mean                   1.141632                      1.251786  \n",
       "std                    0.183969                      0.194859  \n",
       "min                    0.769000                      1.003000  \n",
       "25%                    1.076000                      1.096000  \n",
       "50%                    1.114000                      1.185000  \n",
       "75%                    1.167000                      1.376000  \n",
       "max                    2.422000                      1.930000  "
      ]
     },
     "execution_count": 4,
     "metadata": {},
     "output_type": "execute_result"
    }
   ],
   "source": [
    "df.describe()"
   ]
  },
  {
   "cell_type": "code",
   "execution_count": 5,
   "id": "21d9a403",
   "metadata": {},
   "outputs": [
    {
     "data": {
      "text/plain": [
       "Temperature                     0\n",
       "liq_phase_comp_benzene          0\n",
       "liq_phase_comp_cyclohexane      0\n",
       "vapor_phase_comp_benzene        0\n",
       "vapor_phase_comp_cyclohexane    0\n",
       "Accentric_factor_benzene        0\n",
       "Accentric_factor_cyclohexane    0\n",
       "dtype: int64"
      ]
     },
     "execution_count": 5,
     "metadata": {},
     "output_type": "execute_result"
    }
   ],
   "source": [
    "df.isnull().sum()"
   ]
  },
  {
   "cell_type": "markdown",
   "id": "a6cb9afc",
   "metadata": {},
   "source": [
    "## Detecting Outliers"
   ]
  },
  {
   "cell_type": "code",
   "execution_count": 6,
   "id": "bbe42e39",
   "metadata": {},
   "outputs": [
    {
     "data": {
      "text/html": [
       "<div>\n",
       "<style scoped>\n",
       "    .dataframe tbody tr th:only-of-type {\n",
       "        vertical-align: middle;\n",
       "    }\n",
       "\n",
       "    .dataframe tbody tr th {\n",
       "        vertical-align: top;\n",
       "    }\n",
       "\n",
       "    .dataframe thead th {\n",
       "        text-align: right;\n",
       "    }\n",
       "</style>\n",
       "<table border=\"1\" class=\"dataframe\">\n",
       "  <thead>\n",
       "    <tr style=\"text-align: right;\">\n",
       "      <th></th>\n",
       "      <th>Temperature</th>\n",
       "      <th>liq_phase_comp_benzene</th>\n",
       "      <th>liq_phase_comp_cyclohexane</th>\n",
       "      <th>vapor_phase_comp_cyclohexane</th>\n",
       "      <th>Accentric_factor_benzene</th>\n",
       "      <th>Accentric_factor_cyclohexane</th>\n",
       "    </tr>\n",
       "  </thead>\n",
       "  <tbody>\n",
       "    <tr>\n",
       "      <th>0</th>\n",
       "      <td>351.03</td>\n",
       "      <td>0.497</td>\n",
       "      <td>0.482</td>\n",
       "      <td>0.489</td>\n",
       "      <td>1.087</td>\n",
       "      <td>1.098</td>\n",
       "    </tr>\n",
       "    <tr>\n",
       "      <th>1</th>\n",
       "      <td>351.07</td>\n",
       "      <td>0.545</td>\n",
       "      <td>0.429</td>\n",
       "      <td>0.441</td>\n",
       "      <td>1.081</td>\n",
       "      <td>1.112</td>\n",
       "    </tr>\n",
       "    <tr>\n",
       "      <th>2</th>\n",
       "      <td>351.09</td>\n",
       "      <td>0.508</td>\n",
       "      <td>0.465</td>\n",
       "      <td>0.483</td>\n",
       "      <td>1.070</td>\n",
       "      <td>1.123</td>\n",
       "    </tr>\n",
       "    <tr>\n",
       "      <th>3</th>\n",
       "      <td>351.09</td>\n",
       "      <td>0.583</td>\n",
       "      <td>0.395</td>\n",
       "      <td>0.413</td>\n",
       "      <td>1.061</td>\n",
       "      <td>1.130</td>\n",
       "    </tr>\n",
       "    <tr>\n",
       "      <th>4</th>\n",
       "      <td>351.11</td>\n",
       "      <td>0.547</td>\n",
       "      <td>0.427</td>\n",
       "      <td>0.438</td>\n",
       "      <td>1.082</td>\n",
       "      <td>1.108</td>\n",
       "    </tr>\n",
       "  </tbody>\n",
       "</table>\n",
       "</div>"
      ],
      "text/plain": [
       "   Temperature  liq_phase_comp_benzene  liq_phase_comp_cyclohexane  \\\n",
       "0       351.03                   0.497                       0.482   \n",
       "1       351.07                   0.545                       0.429   \n",
       "2       351.09                   0.508                       0.465   \n",
       "3       351.09                   0.583                       0.395   \n",
       "4       351.11                   0.547                       0.427   \n",
       "\n",
       "   vapor_phase_comp_cyclohexane  Accentric_factor_benzene  \\\n",
       "0                         0.489                     1.087   \n",
       "1                         0.441                     1.081   \n",
       "2                         0.483                     1.070   \n",
       "3                         0.413                     1.061   \n",
       "4                         0.438                     1.082   \n",
       "\n",
       "   Accentric_factor_cyclohexane  \n",
       "0                         1.098  \n",
       "1                         1.112  \n",
       "2                         1.123  \n",
       "3                         1.130  \n",
       "4                         1.108  "
      ]
     },
     "execution_count": 6,
     "metadata": {},
     "output_type": "execute_result"
    }
   ],
   "source": [
    "df1 = df.drop('vapor_phase_comp_benzene',axis = 1)\n",
    "df1.head()"
   ]
  },
  {
   "cell_type": "code",
   "execution_count": 7,
   "id": "154937d6",
   "metadata": {},
   "outputs": [
    {
     "name": "stderr",
     "output_type": "stream",
     "text": [
      "C:\\ProgramData\\Anaconda3\\lib\\site-packages\\seaborn\\_decorators.py:36: FutureWarning: Pass the following variable as a keyword arg: x. From version 0.12, the only valid positional argument will be `data`, and passing other arguments without an explicit keyword will result in an error or misinterpretation.\n",
      "  warnings.warn(\n"
     ]
    },
    {
     "data": {
      "image/png": "[encoded data removed]",
      "text/plain": [
       "<Figure size 200x200 with 1 Axes>"
      ]
     },
     "metadata": {},
     "output_type": "display_data"
    },
    {
     "name": "stderr",
     "output_type": "stream",
     "text": [
      "C:\\ProgramData\\Anaconda3\\lib\\site-packages\\seaborn\\_decorators.py:36: FutureWarning: Pass the following variable as a keyword arg: x. From version 0.12, the only valid positional argument will be `data`, and passing other arguments without an explicit keyword will result in an error or misinterpretation.\n",
      "  warnings.warn(\n"
     ]
    },
    {
     "data": {
      "image/png": "[encoded data removed]",
      "text/plain": [
       "<Figure size 200x200 with 1 Axes>"
      ]
     },
     "metadata": {},
     "output_type": "display_data"
    },
    {
     "name": "stderr",
     "output_type": "stream",
     "text": [
      "C:\\ProgramData\\Anaconda3\\lib\\site-packages\\seaborn\\_decorators.py:36: FutureWarning: Pass the following variable as a keyword arg: x. From version 0.12, the only valid positional argument will be `data`, and passing other arguments without an explicit keyword will result in an error or misinterpretation.\n",
      "  warnings.warn(\n"
     ]
    },
    {
     "data": {
      "image/png": "[encoded data removed]",
      "text/plain": [
       "<Figure size 200x200 with 1 Axes>"
      ]
     },
     "metadata": {},
     "output_type": "display_data"
    },
    {
     "name": "stderr",
     "output_type": "stream",
     "text": [
      "C:\\ProgramData\\Anaconda3\\lib\\site-packages\\seaborn\\_decorators.py:36: FutureWarning: Pass the following variable as a keyword arg: x. From version 0.12, the only valid positional argument will be `data`, and passing other arguments without an explicit keyword will result in an error or misinterpretation.\n",
      "  warnings.warn(\n"
     ]
    },
    {
     "data": {
      "image/png": "[encoded data removed]",
      "text/plain": [
       "<Figure size 200x200 with 1 Axes>"
      ]
     },
     "metadata": {},
     "output_type": "display_data"
    },
    {
     "name": "stderr",
     "output_type": "stream",
     "text": [
      "C:\\ProgramData\\Anaconda3\\lib\\site-packages\\seaborn\\_decorators.py:36: FutureWarning: Pass the following variable as a keyword arg: x. From version 0.12, the only valid positional argument will be `data`, and passing other arguments without an explicit keyword will result in an error or misinterpretation.\n",
      "  warnings.warn(\n"
     ]
    },
    {
     "data": {
      "image/png": "[encoded data removed]",
      "text/plain": [
       "<Figure size 200x200 with 1 Axes>"
      ]
     },
     "metadata": {},
     "output_type": "display_data"
    },
    {
     "name": "stderr",
     "output_type": "stream",
     "text": [
      "C:\\ProgramData\\Anaconda3\\lib\\site-packages\\seaborn\\_decorators.py:36: FutureWarning: Pass the following variable as a keyword arg: x. From version 0.12, the only valid positional argument will be `data`, and passing other arguments without an explicit keyword will result in an error or misinterpretation.\n",
      "  warnings.warn(\n"
     ]
    },
    {
     "data": {
      "image/png": "[encoded data removed]",
      "text/plain": [
       "<Figure size 200x200 with 1 Axes>"
      ]
     },
     "metadata": {},
     "output_type": "display_data"
    }
   ],
   "source": [
    "for i in df1.columns:\n",
    "    plt.figure(figsize = (2,2))\n",
    "    sns.boxplot(df[i])\n",
    "    plt.show()"
   ]
  },
  {
   "cell_type": "markdown",
   "id": "be0c2398",
   "metadata": {},
   "source": [
    "## Handling Outliers"
   ]
  },
  {
   "cell_type": "code",
   "execution_count": 8,
   "id": "18b85c43",
   "metadata": {},
   "outputs": [
    {
     "name": "stderr",
     "output_type": "stream",
     "text": [
      "C:\\ProgramData\\Anaconda3\\lib\\site-packages\\seaborn\\_decorators.py:36: FutureWarning: Pass the following variable as a keyword arg: x. From version 0.12, the only valid positional argument will be `data`, and passing other arguments without an explicit keyword will result in an error or misinterpretation.\n",
      "  warnings.warn(\n"
     ]
    },
    {
     "data": {
      "image/png": "[encoded data removed]",
      "text/plain": [
       "<Figure size 200x200 with 1 Axes>"
      ]
     },
     "metadata": {},
     "output_type": "display_data"
    },
    {
     "name": "stderr",
     "output_type": "stream",
     "text": [
      "C:\\ProgramData\\Anaconda3\\lib\\site-packages\\seaborn\\_decorators.py:36: FutureWarning: Pass the following variable as a keyword arg: x. From version 0.12, the only valid positional argument will be `data`, and passing other arguments without an explicit keyword will result in an error or misinterpretation.\n",
      "  warnings.warn(\n"
     ]
    },
    {
     "data": {
      "image/png": "[encoded data removed]",
      "text/plain": [
       "<Figure size 200x200 with 1 Axes>"
      ]
     },
     "metadata": {},
     "output_type": "display_data"
    },
    {
     "name": "stderr",
     "output_type": "stream",
     "text": [
      "C:\\ProgramData\\Anaconda3\\lib\\site-packages\\seaborn\\_decorators.py:36: FutureWarning: Pass the following variable as a keyword arg: x. From version 0.12, the only valid positional argument will be `data`, and passing other arguments without an explicit keyword will result in an error or misinterpretation.\n",
      "  warnings.warn(\n"
     ]
    },
    {
     "data": {
      "image/png": "[encoded data removed]",
      "text/plain": [
       "<Figure size 200x200 with 1 Axes>"
      ]
     },
     "metadata": {},
     "output_type": "display_data"
    },
    {
     "name": "stderr",
     "output_type": "stream",
     "text": [
      "C:\\ProgramData\\Anaconda3\\lib\\site-packages\\seaborn\\_decorators.py:36: FutureWarning: Pass the following variable as a keyword arg: x. From version 0.12, the only valid positional argument will be `data`, and passing other arguments without an explicit keyword will result in an error or misinterpretation.\n",
      "  warnings.warn(\n"
     ]
    },
    {
     "data": {
      "image/png": "[encoded data removed]",
      "text/plain": [
       "<Figure size 200x200 with 1 Axes>"
      ]
     },
     "metadata": {},
     "output_type": "display_data"
    },
    {
     "name": "stderr",
     "output_type": "stream",
     "text": [
      "C:\\ProgramData\\Anaconda3\\lib\\site-packages\\seaborn\\_decorators.py:36: FutureWarning: Pass the following variable as a keyword arg: x. From version 0.12, the only valid positional argument will be `data`, and passing other arguments without an explicit keyword will result in an error or misinterpretation.\n",
      "  warnings.warn(\n"
     ]
    },
    {
     "data": {
      "image/png": "[encoded data removed]",
      "text/plain": [
       "<Figure size 200x200 with 1 Axes>"
      ]
     },
     "metadata": {},
     "output_type": "display_data"
    },
    {
     "name": "stderr",
     "output_type": "stream",
     "text": [
      "C:\\ProgramData\\Anaconda3\\lib\\site-packages\\seaborn\\_decorators.py:36: FutureWarning: Pass the following variable as a keyword arg: x. From version 0.12, the only valid positional argument will be `data`, and passing other arguments without an explicit keyword will result in an error or misinterpretation.\n",
      "  warnings.warn(\n"
     ]
    },
    {
     "data": {
      "image/png": "[encoded data removed]",
      "text/plain": [
       "<Figure size 200x200 with 1 Axes>"
      ]
     },
     "metadata": {},
     "output_type": "display_data"
    }
   ],
   "source": [
    "for i in df1.columns :\n",
    "    q1 = df[i].quantile(0.25)\n",
    "    q3 = df[i].quantile(0.75)\n",
    "    \n",
    "    iqr = q3-q1\n",
    "    lt = q1 - 1.5*iqr\n",
    "    ut = q3 + 1.5*iqr\n",
    "    \n",
    "    df.loc[df[i]<lt,i] = lt\n",
    "    df.loc[df[i]>ut,i] = ut\n",
    "    \n",
    "    plt.figure(figsize = (2,2))\n",
    "    sns.boxplot(df[i])\n",
    "    plt.show()\n",
    "    \n",
    "    "
   ]
  },
  {
   "cell_type": "markdown",
   "id": "bab91a47",
   "metadata": {},
   "source": [
    "## LinearRegression"
   ]
  },
  {
   "cell_type": "markdown",
   "id": "4a90e547",
   "metadata": {},
   "source": [
    "## 1. linearity"
   ]
  },
  {
   "cell_type": "code",
   "execution_count": 9,
   "id": "c55b8758",
   "metadata": {},
   "outputs": [
    {
     "data": {
      "text/html": [
       "<div>\n",
       "<style scoped>\n",
       "    .dataframe tbody tr th:only-of-type {\n",
       "        vertical-align: middle;\n",
       "    }\n",
       "\n",
       "    .dataframe tbody tr th {\n",
       "        vertical-align: top;\n",
       "    }\n",
       "\n",
       "    .dataframe thead th {\n",
       "        text-align: right;\n",
       "    }\n",
       "</style>\n",
       "<table border=\"1\" class=\"dataframe\">\n",
       "  <thead>\n",
       "    <tr style=\"text-align: right;\">\n",
       "      <th></th>\n",
       "      <th>Temperature</th>\n",
       "      <th>liq_phase_comp_benzene</th>\n",
       "      <th>liq_phase_comp_cyclohexane</th>\n",
       "      <th>vapor_phase_comp_benzene</th>\n",
       "      <th>vapor_phase_comp_cyclohexane</th>\n",
       "      <th>Accentric_factor_benzene</th>\n",
       "      <th>Accentric_factor_cyclohexane</th>\n",
       "    </tr>\n",
       "  </thead>\n",
       "  <tbody>\n",
       "    <tr>\n",
       "      <th>Temperature</th>\n",
       "      <td>1.000000</td>\n",
       "      <td>-0.334888</td>\n",
       "      <td>-0.420886</td>\n",
       "      <td>-0.071024</td>\n",
       "      <td>-0.140684</td>\n",
       "      <td>0.100487</td>\n",
       "      <td>0.643327</td>\n",
       "    </tr>\n",
       "    <tr>\n",
       "      <th>liq_phase_comp_benzene</th>\n",
       "      <td>-0.334888</td>\n",
       "      <td>1.000000</td>\n",
       "      <td>-0.669242</td>\n",
       "      <td>0.943063</td>\n",
       "      <td>-0.822645</td>\n",
       "      <td>-0.488521</td>\n",
       "      <td>0.219672</td>\n",
       "    </tr>\n",
       "    <tr>\n",
       "      <th>liq_phase_comp_cyclohexane</th>\n",
       "      <td>-0.420886</td>\n",
       "      <td>-0.669242</td>\n",
       "      <td>1.000000</td>\n",
       "      <td>-0.830316</td>\n",
       "      <td>0.925527</td>\n",
       "      <td>0.407050</td>\n",
       "      <td>-0.683504</td>\n",
       "    </tr>\n",
       "    <tr>\n",
       "      <th>vapor_phase_comp_benzene</th>\n",
       "      <td>-0.071024</td>\n",
       "      <td>0.943063</td>\n",
       "      <td>-0.830316</td>\n",
       "      <td>1.000000</td>\n",
       "      <td>-0.939542</td>\n",
       "      <td>-0.508944</td>\n",
       "      <td>0.354569</td>\n",
       "    </tr>\n",
       "    <tr>\n",
       "      <th>vapor_phase_comp_cyclohexane</th>\n",
       "      <td>-0.140684</td>\n",
       "      <td>-0.822645</td>\n",
       "      <td>0.925527</td>\n",
       "      <td>-0.939542</td>\n",
       "      <td>1.000000</td>\n",
       "      <td>0.567479</td>\n",
       "      <td>-0.410202</td>\n",
       "    </tr>\n",
       "    <tr>\n",
       "      <th>Accentric_factor_benzene</th>\n",
       "      <td>0.100487</td>\n",
       "      <td>-0.488521</td>\n",
       "      <td>0.407050</td>\n",
       "      <td>-0.508944</td>\n",
       "      <td>0.567479</td>\n",
       "      <td>1.000000</td>\n",
       "      <td>0.165214</td>\n",
       "    </tr>\n",
       "    <tr>\n",
       "      <th>Accentric_factor_cyclohexane</th>\n",
       "      <td>0.643327</td>\n",
       "      <td>0.219672</td>\n",
       "      <td>-0.683504</td>\n",
       "      <td>0.354569</td>\n",
       "      <td>-0.410202</td>\n",
       "      <td>0.165214</td>\n",
       "      <td>1.000000</td>\n",
       "    </tr>\n",
       "  </tbody>\n",
       "</table>\n",
       "</div>"
      ],
      "text/plain": [
       "                              Temperature  liq_phase_comp_benzene  \\\n",
       "Temperature                      1.000000               -0.334888   \n",
       "liq_phase_comp_benzene          -0.334888                1.000000   \n",
       "liq_phase_comp_cyclohexane      -0.420886               -0.669242   \n",
       "vapor_phase_comp_benzene        -0.071024                0.943063   \n",
       "vapor_phase_comp_cyclohexane    -0.140684               -0.822645   \n",
       "Accentric_factor_benzene         0.100487               -0.488521   \n",
       "Accentric_factor_cyclohexane     0.643327                0.219672   \n",
       "\n",
       "                              liq_phase_comp_cyclohexane  \\\n",
       "Temperature                                    -0.420886   \n",
       "liq_phase_comp_benzene                         -0.669242   \n",
       "liq_phase_comp_cyclohexane                      1.000000   \n",
       "vapor_phase_comp_benzene                       -0.830316   \n",
       "vapor_phase_comp_cyclohexane                    0.925527   \n",
       "Accentric_factor_benzene                        0.407050   \n",
       "Accentric_factor_cyclohexane                   -0.683504   \n",
       "\n",
       "                              vapor_phase_comp_benzene  \\\n",
       "Temperature                                  -0.071024   \n",
       "liq_phase_comp_benzene                        0.943063   \n",
       "liq_phase_comp_cyclohexane                   -0.830316   \n",
       "vapor_phase_comp_benzene                      1.000000   \n",
       "vapor_phase_comp_cyclohexane                 -0.939542   \n",
       "Accentric_factor_benzene                     -0.508944   \n",
       "Accentric_factor_cyclohexane                  0.354569   \n",
       "\n",
       "                              vapor_phase_comp_cyclohexane  \\\n",
       "Temperature                                      -0.140684   \n",
       "liq_phase_comp_benzene                           -0.822645   \n",
       "liq_phase_comp_cyclohexane                        0.925527   \n",
       "vapor_phase_comp_benzene                         -0.939542   \n",
       "vapor_phase_comp_cyclohexane                      1.000000   \n",
       "Accentric_factor_benzene                          0.567479   \n",
       "Accentric_factor_cyclohexane                     -0.410202   \n",
       "\n",
       "                              Accentric_factor_benzene  \\\n",
       "Temperature                                   0.100487   \n",
       "liq_phase_comp_benzene                       -0.488521   \n",
       "liq_phase_comp_cyclohexane                    0.407050   \n",
       "vapor_phase_comp_benzene                     -0.508944   \n",
       "vapor_phase_comp_cyclohexane                  0.567479   \n",
       "Accentric_factor_benzene                      1.000000   \n",
       "Accentric_factor_cyclohexane                  0.165214   \n",
       "\n",
       "                              Accentric_factor_cyclohexane  \n",
       "Temperature                                       0.643327  \n",
       "liq_phase_comp_benzene                            0.219672  \n",
       "liq_phase_comp_cyclohexane                       -0.683504  \n",
       "vapor_phase_comp_benzene                          0.354569  \n",
       "vapor_phase_comp_cyclohexane                     -0.410202  \n",
       "Accentric_factor_benzene                          0.165214  \n",
       "Accentric_factor_cyclohexane                      1.000000  "
      ]
     },
     "execution_count": 9,
     "metadata": {},
     "output_type": "execute_result"
    }
   ],
   "source": [
    "df.corr()"
   ]
  },
  {
   "cell_type": "markdown",
   "id": "b7232dc7",
   "metadata": {},
   "source": [
    "## 2. Independence"
   ]
  },
  {
   "cell_type": "code",
   "execution_count": 10,
   "id": "bdabe5c6",
   "metadata": {},
   "outputs": [
    {
     "data": {
      "text/html": [
       "<div>\n",
       "<style scoped>\n",
       "    .dataframe tbody tr th:only-of-type {\n",
       "        vertical-align: middle;\n",
       "    }\n",
       "\n",
       "    .dataframe tbody tr th {\n",
       "        vertical-align: top;\n",
       "    }\n",
       "\n",
       "    .dataframe thead th {\n",
       "        text-align: right;\n",
       "    }\n",
       "</style>\n",
       "<table border=\"1\" class=\"dataframe\">\n",
       "  <thead>\n",
       "    <tr style=\"text-align: right;\">\n",
       "      <th></th>\n",
       "      <th>Temperature</th>\n",
       "      <th>liq_phase_comp_benzene</th>\n",
       "      <th>liq_phase_comp_cyclohexane</th>\n",
       "      <th>vapor_phase_comp_benzene</th>\n",
       "      <th>vapor_phase_comp_cyclohexane</th>\n",
       "      <th>Accentric_factor_benzene</th>\n",
       "      <th>Accentric_factor_cyclohexane</th>\n",
       "    </tr>\n",
       "  </thead>\n",
       "  <tbody>\n",
       "    <tr>\n",
       "      <th>vapor_phase_comp_benzene</th>\n",
       "      <td>-0.071024</td>\n",
       "      <td>0.943063</td>\n",
       "      <td>-0.830316</td>\n",
       "      <td>1.0</td>\n",
       "      <td>-0.939542</td>\n",
       "      <td>-0.508944</td>\n",
       "      <td>0.354569</td>\n",
       "    </tr>\n",
       "  </tbody>\n",
       "</table>\n",
       "</div>"
      ],
      "text/plain": [
       "                          Temperature  liq_phase_comp_benzene  \\\n",
       "vapor_phase_comp_benzene    -0.071024                0.943063   \n",
       "\n",
       "                          liq_phase_comp_cyclohexane  \\\n",
       "vapor_phase_comp_benzene                   -0.830316   \n",
       "\n",
       "                          vapor_phase_comp_benzene  \\\n",
       "vapor_phase_comp_benzene                       1.0   \n",
       "\n",
       "                          vapor_phase_comp_cyclohexane  \\\n",
       "vapor_phase_comp_benzene                     -0.939542   \n",
       "\n",
       "                          Accentric_factor_benzene  \\\n",
       "vapor_phase_comp_benzene                 -0.508944   \n",
       "\n",
       "                          Accentric_factor_cyclohexane  \n",
       "vapor_phase_comp_benzene                      0.354569  "
      ]
     },
     "execution_count": 10,
     "metadata": {},
     "output_type": "execute_result"
    }
   ],
   "source": [
    "df.corr()[3:4]"
   ]
  },
  {
   "cell_type": "markdown",
   "id": "8fd9034e",
   "metadata": {},
   "source": [
    "## 3. No Multicollinearity"
   ]
  },
  {
   "cell_type": "code",
   "execution_count": 11,
   "id": "573a0cb8",
   "metadata": {},
   "outputs": [
    {
     "name": "stdout",
     "output_type": "stream",
     "text": [
      "VIF of Temperature = 405.7682540977602\n",
      "VIF of liq_phase_comp_benzene = 61.26818693076674\n",
      "VIF of liq_phase_comp_cyclohexane = 150.9901176170519\n",
      "VIF of vapor_phase_comp_cyclohexane = 186.99473993334155\n",
      "VIF of Accentric_factor_benzene = 239.35709548272987\n",
      "VIF of Accentric_factor_cyclohexane = 365.4704880303026\n"
     ]
    }
   ],
   "source": [
    "for i in range(len(df1.columns)):\n",
    "    vif = variance_inflation_factor(df,i)\n",
    "    print(f\"VIF of {df1.columns[i]} = {vif}\")"
   ]
  },
  {
   "cell_type": "markdown",
   "id": "c645b4ac",
   "metadata": {},
   "source": [
    "## Model Training"
   ]
  },
  {
   "cell_type": "code",
   "execution_count": 12,
   "id": "595752ae",
   "metadata": {},
   "outputs": [],
   "source": [
    "x = df.drop('vapor_phase_comp_benzene',axis = 1)\n",
    "y = df['vapor_phase_comp_benzene']"
   ]
  },
  {
   "cell_type": "code",
   "execution_count": 13,
   "id": "d613bc26",
   "metadata": {},
   "outputs": [],
   "source": [
    "x_train,x_test,y_train,y_test = train_test_split(x,y,random_state = 5,test_size = 0.3)"
   ]
  },
  {
   "cell_type": "code",
   "execution_count": 14,
   "id": "1abc877d",
   "metadata": {},
   "outputs": [
    {
     "data": {
      "text/plain": [
       "LinearRegression()"
      ]
     },
     "execution_count": 14,
     "metadata": {},
     "output_type": "execute_result"
    }
   ],
   "source": [
    "model = LinearRegression()\n",
    "model.fit(x_train,y_train)"
   ]
  },
  {
   "cell_type": "code",
   "execution_count": 15,
   "id": "4c42991c",
   "metadata": {},
   "outputs": [],
   "source": [
    "y_pred = model.predict(x_test)"
   ]
  },
  {
   "cell_type": "code",
   "execution_count": 16,
   "id": "f75227ab",
   "metadata": {},
   "outputs": [],
   "source": [
    "residual = y_test - y_pred"
   ]
  },
  {
   "cell_type": "markdown",
   "id": "cd306db5",
   "metadata": {},
   "source": [
    "## 4. Normality"
   ]
  },
  {
   "cell_type": "code",
   "execution_count": 17,
   "id": "d6947b42",
   "metadata": {},
   "outputs": [
    {
     "data": {
      "text/plain": [
       "<AxesSubplot:xlabel='vapor_phase_comp_benzene', ylabel='Density'>"
      ]
     },
     "execution_count": 17,
     "metadata": {},
     "output_type": "execute_result"
    },
    {
     "data": {
      "image/png": "[encoded data removed]",
      "text/plain": [
       "<Figure size 640x480 with 1 Axes>"
      ]
     },
     "metadata": {},
     "output_type": "display_data"
    }
   ],
   "source": [
    "sns.kdeplot(residual)"
   ]
  },
  {
   "cell_type": "code",
   "execution_count": 18,
   "id": "6c8c4239",
   "metadata": {},
   "outputs": [],
   "source": [
    "import scipy.stats as stats\n",
    "import statsmodels.api as sm\n",
    "from scipy.stats import normaltest"
   ]
  },
  {
   "cell_type": "code",
   "execution_count": 19,
   "id": "1d8d9317",
   "metadata": {},
   "outputs": [
    {
     "data": {
      "image/png": "[encoded data removed]",
      "text/plain": [
       "<Figure size 640x480 with 1 Axes>"
      ]
     },
     "execution_count": 19,
     "metadata": {},
     "output_type": "execute_result"
    },
    {
     "data": {
      "image/png": "[encoded data removed]",
      "text/plain": [
       "<Figure size 640x480 with 1 Axes>"
      ]
     },
     "metadata": {},
     "output_type": "display_data"
    }
   ],
   "source": [
    "sm.qqplot(residual,stats.norm,fit = True,line = '45')"
   ]
  },
  {
   "cell_type": "code",
   "execution_count": 20,
   "id": "b38053ea",
   "metadata": {},
   "outputs": [
    {
     "name": "stdout",
     "output_type": "stream",
     "text": [
      "p_value = 5.3158398844390105e-12\n",
      "Residuals are not normally distributed.\n"
     ]
    }
   ],
   "source": [
    "stats,p_value = normaltest(residual)\n",
    "if p_value >0.05:\n",
    "    print(f\"p_value = {p_value}\")\n",
    "    print(f\"Residuals are normally distributed.\")\n",
    "    \n",
    "else:\n",
    "    print(f\"p_value = {p_value}\")\n",
    "    print(f\"Residuals are not normally distributed.\")"
   ]
  },
  {
   "cell_type": "markdown",
   "id": "b0db6ef7",
   "metadata": {},
   "source": [
    "## 5. Homoschedasticity"
   ]
  },
  {
   "cell_type": "code",
   "execution_count": 21,
   "id": "a1568258",
   "metadata": {},
   "outputs": [
    {
     "data": {
      "text/plain": [
       "<matplotlib.collections.PathCollection at 0x1189ac99af0>"
      ]
     },
     "execution_count": 21,
     "metadata": {},
     "output_type": "execute_result"
    },
    {
     "data": {
      "image/png": "[encoded data removed]",
      "text/plain": [
       "<Figure size 640x480 with 1 Axes>"
      ]
     },
     "metadata": {},
     "output_type": "display_data"
    }
   ],
   "source": [
    "plt.scatter(y_pred,residual)"
   ]
  },
  {
   "cell_type": "code",
   "execution_count": 22,
   "id": "d9e21325",
   "metadata": {},
   "outputs": [],
   "source": [
    "def model_eval(x,y,model):\n",
    "    y_pred = model.predict(x)\n",
    "    mse = mean_squared_error(y,y_pred)\n",
    "    print(f\"mse = {mse}\")\n",
    "    \n",
    "    mae = mean_absolute_error(y,y_pred)\n",
    "    print(f\"mae = {mae}\")\n",
    "    \n",
    "    r2 = r2_score(y,y_pred)\n",
    "    print(f\"r2_score = {r2}\")\n",
    "    \n",
    "    adj_r2 = (((1-r2)*(x.shape[0]-1))/(x.shape[0]-x.shape[1]-1))\n",
    "    print(f\"adj r2 score = {adj_r2}\")\n",
    "    \n",
    "    return"
   ]
  },
  {
   "cell_type": "code",
   "execution_count": 23,
   "id": "66236689",
   "metadata": {},
   "outputs": [
    {
     "name": "stdout",
     "output_type": "stream",
     "text": [
      "mse = 0.00401901050458282\n",
      "mae = 0.025896910127084356\n",
      "r2_score = 0.942405163249937\n",
      "adj r2 score = 0.06951100987076575\n"
     ]
    }
   ],
   "source": [
    "model_eval(x_test,y_test,model)"
   ]
  },
  {
   "cell_type": "code",
   "execution_count": 24,
   "id": "4dcd5e3a",
   "metadata": {},
   "outputs": [
    {
     "name": "stdout",
     "output_type": "stream",
     "text": [
      "mse = 0.0004176610096814107\n",
      "mae = 0.012521237415697583\n",
      "r2_score = 0.9925621205529903\n",
      "adj r2 score = 0.008040950753523986\n"
     ]
    }
   ],
   "source": [
    "model_eval(x_train,y_train,model)"
   ]
  },
  {
   "cell_type": "markdown",
   "id": "5f1f216e",
   "metadata": {},
   "source": [
    "## User Define Function"
   ]
  },
  {
   "cell_type": "code",
   "execution_count": 25,
   "id": "3d558d6f",
   "metadata": {},
   "outputs": [],
   "source": [
    "import pickle"
   ]
  },
  {
   "cell_type": "code",
   "execution_count": 27,
   "id": "8a341501",
   "metadata": {},
   "outputs": [],
   "source": [
    "with open(\"vle_model.pkl\",'wb') as file:\n",
    "    pickle.dump(model,file)"
   ]
  },
  {
   "cell_type": "code",
   "execution_count": 38,
   "id": "139435aa",
   "metadata": {},
   "outputs": [],
   "source": [
    "with open(\"vle_model.pkl\",'rb') as file :\n",
    "    model = pickle.load(file)"
   ]
  },
  {
   "cell_type": "code",
   "execution_count": 39,
   "id": "ebf62938",
   "metadata": {},
   "outputs": [
    {
     "data": {
      "text/plain": [
       "Index(['Temperature', 'liq_phase_comp_benzene', 'liq_phase_comp_cyclohexane',\n",
       "       'vapor_phase_comp_cyclohexane', 'Accentric_factor_benzene',\n",
       "       'Accentric_factor_cyclohexane'],\n",
       "      dtype='object')"
      ]
     },
     "execution_count": 39,
     "metadata": {},
     "output_type": "execute_result"
    }
   ],
   "source": [
    "x.columns"
   ]
  },
  {
   "cell_type": "code",
   "execution_count": 53,
   "id": "1f1f3c86",
   "metadata": {},
   "outputs": [],
   "source": [
    "data = {\"columns\":['Temperature', 'liq_phase_comp_benzene', 'liq_phase_comp_cyclohexane',\n",
    "       'vapor_phase_comp_cyclohexane', 'Accentric_factor_benzene',\n",
    "       'Accentric_factor_cyclohexane']}"
   ]
  },
  {
   "cell_type": "code",
   "execution_count": 54,
   "id": "993a22a8",
   "metadata": {},
   "outputs": [
    {
     "ename": "TypeError",
     "evalue": "Object of type set is not JSON serializable",
     "output_type": "error",
     "traceback": [
      "\u001b[1;31m---------------------------------------------------------------------------\u001b[0m",
      "\u001b[1;31mTypeError\u001b[0m                                 Traceback (most recent call last)",
      "\u001b[1;32m~\\AppData\\Local\\Temp\\ipykernel_8552\\2929057362.py\u001b[0m in \u001b[0;36m<module>\u001b[1;34m\u001b[0m\n\u001b[0;32m      1\u001b[0m \u001b[1;32mimport\u001b[0m \u001b[0mjson\u001b[0m\u001b[1;33m\u001b[0m\u001b[1;33m\u001b[0m\u001b[0m\n\u001b[0;32m      2\u001b[0m \u001b[1;32mwith\u001b[0m \u001b[0mopen\u001b[0m\u001b[1;33m(\u001b[0m\u001b[1;34m'project_data.json'\u001b[0m\u001b[1;33m,\u001b[0m\u001b[1;34m'w'\u001b[0m\u001b[1;33m)\u001b[0m \u001b[1;32mas\u001b[0m \u001b[0mfile\u001b[0m\u001b[1;33m:\u001b[0m\u001b[1;33m\u001b[0m\u001b[1;33m\u001b[0m\u001b[0m\n\u001b[1;32m----> 3\u001b[1;33m     \u001b[0mjson\u001b[0m\u001b[1;33m.\u001b[0m\u001b[0mdump\u001b[0m\u001b[1;33m(\u001b[0m\u001b[0mdata\u001b[0m\u001b[1;33m,\u001b[0m\u001b[0mfile\u001b[0m\u001b[1;33m)\u001b[0m\u001b[1;33m\u001b[0m\u001b[1;33m\u001b[0m\u001b[0m\n\u001b[0m\u001b[0;32m      4\u001b[0m \u001b[1;33m\u001b[0m\u001b[0m\n",
      "\u001b[1;32mC:\\ProgramData\\Anaconda3\\lib\\json\\__init__.py\u001b[0m in \u001b[0;36mdump\u001b[1;34m(obj, fp, skipkeys, ensure_ascii, check_circular, allow_nan, cls, indent, separators, default, sort_keys, **kw)\u001b[0m\n\u001b[0;32m    177\u001b[0m     \u001b[1;31m# could accelerate with writelines in some versions of Python, at\u001b[0m\u001b[1;33m\u001b[0m\u001b[1;33m\u001b[0m\u001b[0m\n\u001b[0;32m    178\u001b[0m     \u001b[1;31m# a debuggability cost\u001b[0m\u001b[1;33m\u001b[0m\u001b[1;33m\u001b[0m\u001b[0m\n\u001b[1;32m--> 179\u001b[1;33m     \u001b[1;32mfor\u001b[0m \u001b[0mchunk\u001b[0m \u001b[1;32min\u001b[0m \u001b[0miterable\u001b[0m\u001b[1;33m:\u001b[0m\u001b[1;33m\u001b[0m\u001b[1;33m\u001b[0m\u001b[0m\n\u001b[0m\u001b[0;32m    180\u001b[0m         \u001b[0mfp\u001b[0m\u001b[1;33m.\u001b[0m\u001b[0mwrite\u001b[0m\u001b[1;33m(\u001b[0m\u001b[0mchunk\u001b[0m\u001b[1;33m)\u001b[0m\u001b[1;33m\u001b[0m\u001b[1;33m\u001b[0m\u001b[0m\n\u001b[0;32m    181\u001b[0m \u001b[1;33m\u001b[0m\u001b[0m\n",
      "\u001b[1;32mC:\\ProgramData\\Anaconda3\\lib\\json\\encoder.py\u001b[0m in \u001b[0;36m_iterencode\u001b[1;34m(o, _current_indent_level)\u001b[0m\n\u001b[0;32m    429\u001b[0m             \u001b[1;32myield\u001b[0m \u001b[1;32mfrom\u001b[0m \u001b[0m_iterencode_list\u001b[0m\u001b[1;33m(\u001b[0m\u001b[0mo\u001b[0m\u001b[1;33m,\u001b[0m \u001b[0m_current_indent_level\u001b[0m\u001b[1;33m)\u001b[0m\u001b[1;33m\u001b[0m\u001b[1;33m\u001b[0m\u001b[0m\n\u001b[0;32m    430\u001b[0m         \u001b[1;32melif\u001b[0m \u001b[0misinstance\u001b[0m\u001b[1;33m(\u001b[0m\u001b[0mo\u001b[0m\u001b[1;33m,\u001b[0m \u001b[0mdict\u001b[0m\u001b[1;33m)\u001b[0m\u001b[1;33m:\u001b[0m\u001b[1;33m\u001b[0m\u001b[1;33m\u001b[0m\u001b[0m\n\u001b[1;32m--> 431\u001b[1;33m             \u001b[1;32myield\u001b[0m \u001b[1;32mfrom\u001b[0m \u001b[0m_iterencode_dict\u001b[0m\u001b[1;33m(\u001b[0m\u001b[0mo\u001b[0m\u001b[1;33m,\u001b[0m \u001b[0m_current_indent_level\u001b[0m\u001b[1;33m)\u001b[0m\u001b[1;33m\u001b[0m\u001b[1;33m\u001b[0m\u001b[0m\n\u001b[0m\u001b[0;32m    432\u001b[0m         \u001b[1;32melse\u001b[0m\u001b[1;33m:\u001b[0m\u001b[1;33m\u001b[0m\u001b[1;33m\u001b[0m\u001b[0m\n\u001b[0;32m    433\u001b[0m             \u001b[1;32mif\u001b[0m \u001b[0mmarkers\u001b[0m \u001b[1;32mis\u001b[0m \u001b[1;32mnot\u001b[0m \u001b[1;32mNone\u001b[0m\u001b[1;33m:\u001b[0m\u001b[1;33m\u001b[0m\u001b[1;33m\u001b[0m\u001b[0m\n",
      "\u001b[1;32mC:\\ProgramData\\Anaconda3\\lib\\json\\encoder.py\u001b[0m in \u001b[0;36m_iterencode_dict\u001b[1;34m(dct, _current_indent_level)\u001b[0m\n\u001b[0;32m    403\u001b[0m                 \u001b[1;32melse\u001b[0m\u001b[1;33m:\u001b[0m\u001b[1;33m\u001b[0m\u001b[1;33m\u001b[0m\u001b[0m\n\u001b[0;32m    404\u001b[0m                     \u001b[0mchunks\u001b[0m \u001b[1;33m=\u001b[0m \u001b[0m_iterencode\u001b[0m\u001b[1;33m(\u001b[0m\u001b[0mvalue\u001b[0m\u001b[1;33m,\u001b[0m \u001b[0m_current_indent_level\u001b[0m\u001b[1;33m)\u001b[0m\u001b[1;33m\u001b[0m\u001b[1;33m\u001b[0m\u001b[0m\n\u001b[1;32m--> 405\u001b[1;33m                 \u001b[1;32myield\u001b[0m \u001b[1;32mfrom\u001b[0m \u001b[0mchunks\u001b[0m\u001b[1;33m\u001b[0m\u001b[1;33m\u001b[0m\u001b[0m\n\u001b[0m\u001b[0;32m    406\u001b[0m         \u001b[1;32mif\u001b[0m \u001b[0mnewline_indent\u001b[0m \u001b[1;32mis\u001b[0m \u001b[1;32mnot\u001b[0m \u001b[1;32mNone\u001b[0m\u001b[1;33m:\u001b[0m\u001b[1;33m\u001b[0m\u001b[1;33m\u001b[0m\u001b[0m\n\u001b[0;32m    407\u001b[0m             \u001b[0m_current_indent_level\u001b[0m \u001b[1;33m-=\u001b[0m \u001b[1;36m1\u001b[0m\u001b[1;33m\u001b[0m\u001b[1;33m\u001b[0m\u001b[0m\n",
      "\u001b[1;32mC:\\ProgramData\\Anaconda3\\lib\\json\\encoder.py\u001b[0m in \u001b[0;36m_iterencode\u001b[1;34m(o, _current_indent_level)\u001b[0m\n\u001b[0;32m    436\u001b[0m                     \u001b[1;32mraise\u001b[0m \u001b[0mValueError\u001b[0m\u001b[1;33m(\u001b[0m\u001b[1;34m\"Circular reference detected\"\u001b[0m\u001b[1;33m)\u001b[0m\u001b[1;33m\u001b[0m\u001b[1;33m\u001b[0m\u001b[0m\n\u001b[0;32m    437\u001b[0m                 \u001b[0mmarkers\u001b[0m\u001b[1;33m[\u001b[0m\u001b[0mmarkerid\u001b[0m\u001b[1;33m]\u001b[0m \u001b[1;33m=\u001b[0m \u001b[0mo\u001b[0m\u001b[1;33m\u001b[0m\u001b[1;33m\u001b[0m\u001b[0m\n\u001b[1;32m--> 438\u001b[1;33m             \u001b[0mo\u001b[0m \u001b[1;33m=\u001b[0m \u001b[0m_default\u001b[0m\u001b[1;33m(\u001b[0m\u001b[0mo\u001b[0m\u001b[1;33m)\u001b[0m\u001b[1;33m\u001b[0m\u001b[1;33m\u001b[0m\u001b[0m\n\u001b[0m\u001b[0;32m    439\u001b[0m             \u001b[1;32myield\u001b[0m \u001b[1;32mfrom\u001b[0m \u001b[0m_iterencode\u001b[0m\u001b[1;33m(\u001b[0m\u001b[0mo\u001b[0m\u001b[1;33m,\u001b[0m \u001b[0m_current_indent_level\u001b[0m\u001b[1;33m)\u001b[0m\u001b[1;33m\u001b[0m\u001b[1;33m\u001b[0m\u001b[0m\n\u001b[0;32m    440\u001b[0m             \u001b[1;32mif\u001b[0m \u001b[0mmarkers\u001b[0m \u001b[1;32mis\u001b[0m \u001b[1;32mnot\u001b[0m \u001b[1;32mNone\u001b[0m\u001b[1;33m:\u001b[0m\u001b[1;33m\u001b[0m\u001b[1;33m\u001b[0m\u001b[0m\n",
      "\u001b[1;32mC:\\ProgramData\\Anaconda3\\lib\\json\\encoder.py\u001b[0m in \u001b[0;36mdefault\u001b[1;34m(self, o)\u001b[0m\n\u001b[0;32m    177\u001b[0m \u001b[1;33m\u001b[0m\u001b[0m\n\u001b[0;32m    178\u001b[0m         \"\"\"\n\u001b[1;32m--> 179\u001b[1;33m         raise TypeError(f'Object of type {o.__class__.__name__} '\n\u001b[0m\u001b[0;32m    180\u001b[0m                         f'is not JSON serializable')\n\u001b[0;32m    181\u001b[0m \u001b[1;33m\u001b[0m\u001b[0m\n",
      "\u001b[1;31mTypeError\u001b[0m: Object of type set is not JSON serializable"
     ]
    }
   ],
   "source": [
    "import json\n",
    "with open('project_data.json','w') as file:\n",
    "    json.dump(data,file)\n",
    "    "
   ]
  },
  {
   "cell_type": "code",
   "execution_count": 48,
   "id": "3591fea2",
   "metadata": {},
   "outputs": [],
   "source": [
    "Temperature = 351.03\n",
    "liq_phase_comp_benzene = 0.497\n",
    "liq_phase_comp_cyclohexane = 0.482\n",
    "vapor_phase_comp_cyclohexane = 0.511\n",
    "Accentric_factor_benzene = 1.087\n",
    "Accentric_factor_cyclohexane = 1.098\n",
    "\n",
    "user_data = np.zeros(6)\n",
    "user_data[0] = Temperature\n",
    "user_data[1] = liq_phase_comp_benzene\n",
    "user_data[2] = liq_phase_comp_cyclohexane\n",
    "user_data[3] = vapor_phase_comp_cyclohexane\n",
    "user_data[4] = Accentric_factor_benzene\n",
    "user_data[5] = Accentric_factor_cyclohexane"
   ]
  },
  {
   "cell_type": "code",
   "execution_count": 49,
   "id": "28a05ec8",
   "metadata": {},
   "outputs": [
    {
     "data": {
      "text/plain": [
       "array([351.03 ,   0.497,   0.482,   0.511,   1.087,   1.098])"
      ]
     },
     "execution_count": 49,
     "metadata": {},
     "output_type": "execute_result"
    }
   ],
   "source": [
    "user_data"
   ]
  },
  {
   "cell_type": "code",
   "execution_count": 50,
   "id": "89b6d991",
   "metadata": {},
   "outputs": [
    {
     "name": "stderr",
     "output_type": "stream",
     "text": [
      "C:\\ProgramData\\Anaconda3\\lib\\site-packages\\sklearn\\base.py:450: UserWarning: X does not have valid feature names, but LinearRegression was fitted with feature names\n",
      "  warnings.warn(\n"
     ]
    },
    {
     "data": {
      "text/plain": [
       "array([0.50324678])"
      ]
     },
     "execution_count": 50,
     "metadata": {},
     "output_type": "execute_result"
    }
   ],
   "source": [
    "model.predict([user_data])"
   ]
  },
  {
   "cell_type": "code",
   "execution_count": null,
   "id": "4e072834",
   "metadata": {},
   "outputs": [],
   "source": []
  }
 ],
 "metadata": {
  "kernelspec": {
   "display_name": "Python 3 (ipykernel)",
   "language": "python",
   "name": "python3"
  },
  "language_info": {
   "codemirror_mode": {
    "name": "ipython",
    "version": 3
   },
   "file_extension": ".py",
   "mimetype": "text/x-python",
   "name": "python",
   "nbconvert_exporter": "python",
   "pygments_lexer": "ipython3",
   "version": "3.9.13"
  }
 },
 "nbformat": 4,
 "nbformat_minor": 5
}
